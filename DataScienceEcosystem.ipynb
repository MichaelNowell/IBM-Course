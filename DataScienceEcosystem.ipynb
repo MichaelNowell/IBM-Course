{
 "cells": [
  {
   "cell_type": "markdown",
   "id": "53ce1f0c-e55c-454c-874d-27e1166ca438",
   "metadata": {},
   "source": [
    "# Data Science Tools and Ecosystem"
   ]
  },
  {
   "cell_type": "markdown",
   "id": "c28fb99a-2bcd-42bf-a3b0-2dda18349505",
   "metadata": {},
   "source": [
    "## Author\n",
    "Michael"
   ]
  },
  {
   "cell_type": "markdown",
   "id": "2131d8ac-c7df-4bee-a290-34268ab4d747",
   "metadata": {},
   "source": [
    "In this notebook, Data Science Tools and Ecosystem are summarized."
   ]
  },
  {
   "cell_type": "markdown",
   "id": "0586a5b0-ed13-4cff-b8a9-7606e24a098b",
   "metadata": {},
   "source": [
    "**Objectives**\n",
    "- List Popular Languages\n",
    "- List Libraries\n",
    "- Make a Chart\n",
    "- Show how to do arithmetic"
   ]
  },
  {
   "cell_type": "markdown",
   "id": "83df48e2-73b7-4454-87fd-4df6a62e80c3",
   "metadata": {},
   "source": [
    "Some of the popular languages that Data Scientists use are:\n",
    "\n",
    "1. SQL\n",
    "2. R studio\n",
    "3. Python\n",
    "4. JSON"
   ]
  },
  {
   "cell_type": "markdown",
   "id": "fbec8d4f-271c-401d-84ee-9580d3e7f892",
   "metadata": {},
   "source": [
    "Some of the commonly used libraries used by Data Scientists include:\n",
    "\n",
    "- ggplot\n",
    "- readr\n",
    "- dplyr\n",
    "- tidyverse"
   ]
  },
  {
   "cell_type": "markdown",
   "id": "88fd2f8a-fb13-4b64-a7f7-0003b677dc50",
   "metadata": {},
   "source": [
    "| Data Science Tools |\n",
    "|--------------------|\n",
    "|  R Studio |\n",
    "| SQL |\n",
    "| Jupyter | "
   ]
  },
  {
   "cell_type": "markdown",
   "id": "e54f6d22-787b-486d-968a-2db0d8bdd8b7",
   "metadata": {},
   "source": [
    "### Below are a few examples of evaluating arithmetic expressions in Python\n",
    "\n",
    "1+2\n",
    "\n",
    "3*4\n",
    "\n",
    "3^4\n",
    "\n"
   ]
  },
  {
   "cell_type": "code",
   "execution_count": 1,
   "id": "a9fe7a92-86ed-4cb9-85d1-4f6c06a8808b",
   "metadata": {},
   "outputs": [
    {
     "data": {
      "text/plain": [
       "17"
      ]
     },
     "execution_count": 1,
     "metadata": {},
     "output_type": "execute_result"
    }
   ],
   "source": [
    "# This a simple arithmetic expression to mutiply then add integers\n",
    "\n",
    "(3*4)+5"
   ]
  },
  {
   "cell_type": "code",
   "execution_count": 2,
   "id": "55f2f1ea-ee9a-41f4-81cc-032cbffb587e",
   "metadata": {},
   "outputs": [
    {
     "data": {
      "text/plain": [
       "3.3333333333333335"
      ]
     },
     "execution_count": 2,
     "metadata": {},
     "output_type": "execute_result"
    }
   ],
   "source": [
    "# This will convert 200 minutes to hours by diving by 60\n",
    "\n",
    "200/60"
   ]
  },
  {
   "cell_type": "code",
   "execution_count": null,
   "id": "5f9f03fe-b10e-44ec-8a11-d9f17b8feb39",
   "metadata": {},
   "outputs": [],
   "source": []
  }
 ],
 "metadata": {
  "kernelspec": {
   "display_name": "Python 3 (ipykernel)",
   "language": "python",
   "name": "python3"
  },
  "language_info": {
   "codemirror_mode": {
    "name": "ipython",
    "version": 3
   },
   "file_extension": ".py",
   "mimetype": "text/x-python",
   "name": "python",
   "nbconvert_exporter": "python",
   "pygments_lexer": "ipython3",
   "version": "3.11.5"
  }
 },
 "nbformat": 4,
 "nbformat_minor": 5
}
